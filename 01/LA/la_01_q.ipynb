{
 "cells": [
  {
   "cell_type": "code",
   "execution_count": 23,
   "metadata": {
    "collapsed": true
   },
   "outputs": [
    {
     "data": {
      "text/plain": [
       "{x: -1, z: -2, y: 2}"
      ]
     },
     "execution_count": 23,
     "metadata": {},
     "output_type": "execute_result"
    }
   ],
   "source": [
    "import sympy as sp\n",
    "\n",
    "x, y, z = sp.symbols(\"x y z\")\n",
    "sp.solve([\n",
    "    x + 2 * y - 8,\n",
    "    3 * x - 4 * y - 4\n",
    "])\n",
    "\n",
    "sp.solve([\n",
    "    2 * x - 3 * y + 4 * z + 12,\n",
    "    x - 2 * y + z + 5,\n",
    "    3 * x + y + 2 * z - 1\n",
    "])\n",
    "\n",
    "sp.solve([\n",
    "    x + y - 5,\n",
    "    3 * x + 3 * y - 10\n",
    "])\n",
    "\n",
    "sp.solve([\n",
    "    x + y - 2 * z - 5,\n",
    "    2 * x + 3 * y + 4 * z - 2\n",
    "])\n",
    "\n",
    "sp.solve([\n",
    "    3 * x + 2 * y + z - 2,\n",
    "    4 * x + 2 * y + 2 * z - 8,\n",
    "    x - y + z - 14\n",
    "])\n",
    "\n",
    "#knapsack\n",
    "P = sp.symbols(\"P\")\n",
    "sp.solve([\n",
    "    30 * x + 5 * y + 10 * z - P,\n",
    "    2 * x + 10 * y + 3 * z - 50\n",
    "], P)\n",
    "\n",
    "sp.solve([\n",
    "    2 * x + 3 * y - z - 6,\n",
    "    2 * x - y + 2 * z + 8,\n",
    "    3 * x - y + z + 7\n",
    "])\n"
   ]
  },
  {
   "cell_type": "code",
   "execution_count": null,
   "metadata": {},
   "outputs": [],
   "source": []
  }
 ],
 "metadata": {
  "kernelspec": {
   "display_name": "Python 2",
   "language": "python",
   "name": "python2"
  },
  "language_info": {
   "codemirror_mode": {
    "name": "ipython",
    "version": 2
   },
   "file_extension": ".py",
   "mimetype": "text/x-python",
   "name": "python",
   "nbconvert_exporter": "python",
   "pygments_lexer": "ipython2",
   "version": "2.7.6"
  }
 },
 "nbformat": 4,
 "nbformat_minor": 0
}
