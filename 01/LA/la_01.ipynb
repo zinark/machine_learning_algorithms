{
 "cells": [
  {
   "cell_type": "code",
   "execution_count": 21,
   "metadata": {
    "collapsed": true
   },
   "outputs": [],
   "source": [
    "import numpy as np\n",
    "import sympy as sp\n",
    "sp.init_printing(fontsize='60pt')"
   ]
  },
  {
   "cell_type": "code",
   "execution_count": 35,
   "metadata": {
    "collapsed": false
   },
   "outputs": [
    {
     "name": "stdout",
     "output_type": "stream",
     "text": [
      "⎡⎧    x₂   2⋅x₃   13⎫⎤\n⎢⎨x₁: ── - ──── - ──⎬⎥\n⎣⎩    2     3     6 ⎭⎦\n"
     ]
    },
    {
     "data": {
      "text/latex": [
       "$$6 x_{1} - 3 x_{2} - 3$$"
      ],
      "text/plain": [
       "6⋅x₁ - 3⋅x₂ - 3"
      ]
     },
     "metadata": {},
     "output_type": "display_data"
    }
   ],
   "source": [
    "x1, x2, x3 = sp.symbols(\"x1 x2 x3\")\n",
    "e = 6 * x1 - 3 * x2 + 4 * x3 + 13\n",
    "sp.pprint(sp.solve(e))\n"
   ]
  },
  {
   "cell_type": "code",
   "execution_count": 63,
   "metadata": {},
   "outputs": [
    {
     "name": "stdout",
     "output_type": "stream",
     "text": [
      "x + 2⋅y + 3⋅z - 6\n2⋅x - 3⋅y + 2⋅z - 14\n3⋅x + y - z + 2\nf====\n-7⋅y - 4⋅z - 2\n-5⋅y - 10⋅z + 20\ng====\n-50⋅z + 150\n"
     ]
    },
    {
     "data": {
      "text/latex": [
       "$$\\left \\{ x : 1, \\quad y : -2, \\quad z : 3\\right \\}$$"
      ],
      "text/plain": [
       "{x: 1, y: -2, z: 3}"
      ]
     },
     "metadata": {},
     "output_type": "display_data"
    }
   ],
   "source": [
    "x, y, z = sp.symbols(\"x y z\")\n",
    "e1 = x + 2 * y + 3 * z - 6\n",
    "e2 = 2 * x - 3 * y + 2 * z - 14\n",
    "e3 = 3 * x + y - z + 2\n",
    "sp.pprint(e1)\n",
    "sp.pprint(e2)\n",
    "sp.pprint(e3)\n",
    "\n",
    "print \"f====\"\n",
    "f1 = e1 * -2 + e2\n",
    "f2 = e1 * -3 + e3\n",
    "\n",
    "sp.pprint(f1)\n",
    "sp.pprint(f2)\n",
    "\n",
    "g1 = f1 * -5 + f2 * 7\n",
    "print \"g====\"\n",
    "sp.pprint(g1)\n",
    "\n",
    "sp.solve([e1, e2, e3])\n"
   ]
  },
  {
   "cell_type": "code",
   "execution_count": null,
   "metadata": {},
   "outputs": [],
   "source": []
  }
 ],
 "metadata": {
  "kernelspec": {
   "display_name": "Python 2",
   "language": "python",
   "name": "python2"
  },
  "language_info": {
   "codemirror_mode": {
    "name": "ipython",
    "version": 2
   },
   "file_extension": ".py",
   "mimetype": "text/x-python",
   "name": "python",
   "nbconvert_exporter": "python",
   "pygments_lexer": "ipython2",
   "version": "2.7.6"
  }
 },
 "nbformat": 4,
 "nbformat_minor": 0
}
